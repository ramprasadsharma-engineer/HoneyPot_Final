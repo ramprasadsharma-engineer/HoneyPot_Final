{
 "cells": [
  {
   "cell_type": "markdown",
   "id": "61dea54b",
   "metadata": {},
   "source": [
    "# Honeypot Attack Analysis\n",
    "\n",
    "This notebook analyzes data collected from our Cowrie SSH honeypot."
   ]
  },
  {
   "cell_type": "code",
   "execution_count": null,
   "id": "a717bd73",
   "metadata": {},
   "outputs": [],
   "source": [
    "import pandas as pd\n",
    "import matplotlib.pyplot as plt\n",
    "import seaborn as sns\n",
    "import json\n",
    "from datetime import datetime\n",
    "import os\n",
    "\n",
    "# Set plot style\n",
    "sns.set(style=\"darkgrid\")"
   ]
  },
  {
   "cell_type": "code",
   "execution_count": null,
   "id": "de3587df",
   "metadata": {},
   "outputs": [],
   "source": [
    "def load_cowrie_logs(log_path):\n",
    "    \"\"\"Load and parse Cowrie logs\"\"\"\n",
    "    events = []\n",
    "    with open(log_path, 'r') as f:\n",
    "        for line in f:\n",
    "            try:\n",
    "                event = json.loads(line)\n",
    "                events.append(event)\n",
    "            except:\n",
    "                continue\n",
    "    return pd.DataFrame(events)"
   ]
  },
  {
   "cell_type": "code",
   "execution_count": null,
   "id": "ac7d183f",
   "metadata": {},
   "outputs": [],
   "source": [
    "# Change this to your actual log path\n",
    "log_path = '../log/cowrie.json'\n",
    "df = load_cowrie_logs(log_path)\n",
    "df.head()"
   ]
  },
  {
   "cell_type": "code",
   "execution_count": null,
   "id": "44a5d466",
   "metadata": {},
   "outputs": [],
   "source": [
    "# Analyze login attempts\n",
    "login_attempts = df[df['eventid'] == 'cowrie.login.failed']\n",
    "\n",
    "# Top usernames\n",
    "plt.figure(figsize=(10, 6))\n",
    "login_attempts['username'].value_counts().head(10).plot(kind='barh')\n",
    "plt.title('Top 10 Attempted Usernames')\n",
    "plt.xlabel('Count')\n",
    "plt.tight_layout()\n",
    "plt.show()\n",
    "\n",
    "# Top passwords\n",
    "plt.figure(figsize=(10, 6))\n",
    "login_attempts['password'].value_counts().head(10).plot(kind='barh')\n",
    "plt.title('Top 10 Attempted Passwords')\n",
    "plt.xlabel('Count')\n",
    "plt.tight_layout()\n",
    "plt.show()"
   ]
  },
  {
   "cell_type": "code",
   "execution_count": null,
   "id": "b2edb531",
   "metadata": {},
   "outputs": [],
   "source": [
    "# Attack source analysis\n",
    "plt.figure(figsize=(12, 6))\n",
    "df['src_ip'].value_counts().head(15).plot(kind='bar')\n",
    "plt.title('Top Attack Sources')\n",
    "plt.xlabel('Source IP')\n",
    "plt.ylabel('Number of Events')\n",
    "plt.xticks(rotation=45)\n",
    "plt.tight_layout()\n",
    "plt.show()"
   ]
  }
 ],
 "metadata": {
  "language_info": {
   "name": "python"
  }
 },
 "nbformat": 4,
 "nbformat_minor": 5
}
